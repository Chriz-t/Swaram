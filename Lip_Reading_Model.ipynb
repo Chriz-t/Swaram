{
 "cells": [
  {
   "cell_type": "code",
   "execution_count": 9,
   "id": "5c5ab663-f794-4542-8fb3-d7358bcd5a56",
   "metadata": {},
   "outputs": [],
   "source": [
    "import os\n",
    "import numpy as np\n",
    "import torch\n",
    "import torch.nn as nn\n",
    "import torch.optim as optim\n",
    "from torch.utils.data import Dataset, DataLoader\n",
    "from torch.nn.utils.rnn import pad_sequence\n",
    "from torch.nn.utils.rnn import pack_padded_sequence, pad_packed_sequence\n",
    "from sklearn.model_selection import train_test_split"
   ]
  },
  {
   "cell_type": "code",
   "execution_count": 10,
   "id": "c3710396-afb5-4579-a684-1e68ec00005c",
   "metadata": {},
   "outputs": [],
   "source": [
    "class LipReadingDataset(Dataset):\n",
    "    def __init__(self, root_dir, transform=None):\n",
    "        self.samples = []\n",
    "        self.labels = []\n",
    "        self.transform = transform\n",
    "        self.classes = sorted(os.listdir(root_dir))  # each folder = a class\n",
    "\n",
    "        for label, cls in enumerate(self.classes):\n",
    "            cls_folder = os.path.join(root_dir, cls)\n",
    "            for file in os.listdir(cls_folder):\n",
    "                if file.endswith(\".npy\"):\n",
    "                    self.samples.append(os.path.join(cls_folder, file))\n",
    "                    self.labels.append(label)\n",
    "\n",
    "    def __len__(self):\n",
    "        return len(self.samples)\n",
    "\n",
    "    def __getitem__(self, idx):\n",
    "        sequence = np.load(self.samples[idx])  # shape = (T, 112, 112) with variable T\n",
    "        label = self.labels[idx]\n",
    "\n",
    "        # Add channel dimension: (T, 1, 112, 112)\n",
    "        sequence = np.expand_dims(sequence, axis=1).astype(np.float32)\n",
    "\n",
    "        # Convert to torch tensor\n",
    "        sequence = torch.tensor(sequence)   # shape (T,1,112,112)\n",
    "        label = torch.tensor(label)\n",
    "\n",
    "        return sequence, label"
   ]
  },
  {
   "cell_type": "code",
   "execution_count": 11,
   "id": "9ba5539c-0a88-451b-b0e1-c7e62e50754b",
   "metadata": {},
   "outputs": [],
   "source": [
    "def collate_fn(batch):\n",
    "    # batch is a list of (sequence, label)\n",
    "    sequences, labels = zip(*batch)\n",
    "    lengths = [seq.shape[0] for seq in sequences]  # store true lengths\n",
    "\n",
    "    # Pad sequences to max length in batch\n",
    "    max_len = max(lengths)\n",
    "    padded_sequences = []\n",
    "    for seq in sequences:\n",
    "        pad_len = max_len - seq.shape[0]\n",
    "        if pad_len > 0:\n",
    "            pad = torch.zeros((pad_len, 1, 112, 112), dtype=torch.float32)\n",
    "            seq = torch.cat([seq, pad], dim=0)\n",
    "        padded_sequences.append(seq)\n",
    "\n",
    "    padded_sequences = torch.stack(padded_sequences)  # (B, T, 1, 112, 112)\n",
    "    labels = torch.stack(labels)\n",
    "\n",
    "    return padded_sequences, lengths, labels  # keep lengths for LSTM packing"
   ]
  },
  {
   "cell_type": "code",
   "execution_count": 12,
   "id": "26d620ae-52d3-46c9-a5ee-15d9368c02cf",
   "metadata": {},
   "outputs": [],
   "source": [
    "\n",
    "class LipReadingModel(nn.Module):\n",
    "    def __init__(self, num_classes):\n",
    "        super(LipReadingModel, self).__init__()\n",
    "\n",
    "        # CNN for spatial features\n",
    "        self.cnn = nn.Sequential(\n",
    "            nn.Conv2d(1, 32, 3, padding=1),  # (1,112,112) -> (32,112,112)\n",
    "            nn.ReLU(),\n",
    "            nn.MaxPool2d(2),                # (32,56,56)\n",
    "\n",
    "            nn.Conv2d(32, 64, 3, padding=1),\n",
    "            nn.ReLU(),\n",
    "            nn.MaxPool2d(2),                # (64,28,28)\n",
    "\n",
    "            nn.Conv2d(64, 128, 3, padding=1),\n",
    "            nn.ReLU(),\n",
    "            nn.MaxPool2d(2),                # (128,14,14)\n",
    "        )\n",
    "\n",
    "        self.flatten_dim = 128 * 14 * 14\n",
    "\n",
    "        # LSTM for temporal sequence\n",
    "        self.lstm = nn.LSTM(\n",
    "            input_size=self.flatten_dim,\n",
    "            hidden_size=256,\n",
    "            num_layers=2,\n",
    "            batch_first=True\n",
    "        )\n",
    "\n",
    "        # Classifier\n",
    "        self.fc = nn.Linear(256, num_classes)\n",
    "\n",
    "    def forward(self, x, lengths):\n",
    "        \"\"\"\n",
    "        x: (batch, seq_len, 1, 112, 112)\n",
    "        lengths: list/array of actual sequence lengths before padding\n",
    "        \"\"\"\n",
    "        batch_size, seq_len, C, H, W = x.shape\n",
    "        x = x.view(batch_size * seq_len, C, H, W)\n",
    "\n",
    "        # CNN\n",
    "        features = self.cnn(x)  # (batch*seq_len, 128, 14, 14)\n",
    "        features = features.view(batch_size, seq_len, -1)  # (batch, seq_len, flatten_dim)\n",
    "\n",
    "        # Pack sequence for variable lengths\n",
    "        packed = pack_padded_sequence(features, lengths, batch_first=True, enforce_sorted=False)\n",
    "\n",
    "        # LSTM\n",
    "        packed_out, (hn, cn) = self.lstm(packed)\n",
    "\n",
    "        # hn: (num_layers, batch, hidden_size)\n",
    "        # take the last layer's hidden state\n",
    "        final_out = hn[-1]  # (batch, hidden_size)\n",
    "\n",
    "        # Classifier\n",
    "        out = self.fc(final_out)\n",
    "        return out"
   ]
  },
  {
   "cell_type": "code",
   "execution_count": 13,
   "id": "1a710ed6-2ae1-4c4d-999d-8f23fff94972",
   "metadata": {},
   "outputs": [],
   "source": [
    "root_dir = r\"C:\\Users\\HP\\Desktop\\MLProject\\face_dataset\"\n",
    "\n",
    "dataset = LipReadingDataset(root_dir=root_dir)\n",
    "train_idx, val_idx = train_test_split(list(range(len(dataset))), test_size=0.2, random_state=42)\n",
    "\n",
    "train_set = torch.utils.data.Subset(dataset, train_idx)\n",
    "val_set = torch.utils.data.Subset(dataset, val_idx)\n",
    "\n",
    "train_loader = DataLoader(train_set, batch_size=4, shuffle=True, collate_fn=collate_fn)\n",
    "val_loader   = DataLoader(val_set, batch_size=4, shuffle=False, collate_fn=collate_fn)"
   ]
  },
  {
   "cell_type": "code",
   "execution_count": 14,
   "id": "30b0dffa-b5f9-422f-8fdf-644376189f3b",
   "metadata": {},
   "outputs": [
    {
     "name": "stdout",
     "output_type": "stream",
     "text": [
      "Using device: cpu\n"
     ]
    }
   ],
   "source": [
    "device = torch.device(\"cuda\" if torch.cuda.is_available() else \"cpu\")\n",
    "print(\"Using device:\", device)\n",
    "\n",
    "num_classes = len(dataset.classes)\n",
    "model = LipReadingModel(num_classes=num_classes).to(device)\n",
    "\n",
    "criterion = nn.CrossEntropyLoss()\n",
    "optimizer = optim.Adam(model.parameters(), lr=0.001)\n"
   ]
  },
  {
   "cell_type": "code",
   "execution_count": 15,
   "id": "3371edb9-2a99-4015-8bf6-2332d696b13f",
   "metadata": {},
   "outputs": [
    {
     "name": "stdout",
     "output_type": "stream",
     "text": [
      "Epoch [1/10] Train Loss: 1.1394, Train Acc: 23.61% Val Loss: 1.1041, Val Acc: 38.89%\n",
      "Epoch [2/10] Train Loss: 1.1012, Train Acc: 30.56% Val Loss: 1.0843, Val Acc: 33.33%\n",
      "Epoch [3/10] Train Loss: 1.0807, Train Acc: 41.67% Val Loss: 1.0081, Val Acc: 44.44%\n",
      "Epoch [4/10] Train Loss: 0.9258, Train Acc: 54.17% Val Loss: 0.8341, Val Acc: 50.00%\n",
      "Epoch [5/10] Train Loss: 0.8015, Train Acc: 65.28% Val Loss: 0.7872, Val Acc: 72.22%\n",
      "Epoch [6/10] Train Loss: 0.7004, Train Acc: 61.11% Val Loss: 0.6866, Val Acc: 72.22%\n",
      "Epoch [7/10] Train Loss: 0.4553, Train Acc: 76.39% Val Loss: 0.6855, Val Acc: 77.78%\n",
      "Epoch [8/10] Train Loss: 0.4576, Train Acc: 83.33% Val Loss: 0.5921, Val Acc: 66.67%\n",
      "Epoch [9/10] Train Loss: 0.4968, Train Acc: 81.94% Val Loss: 0.6930, Val Acc: 66.67%\n",
      "Epoch [10/10] Train Loss: 0.3219, Train Acc: 87.50% Val Loss: 0.5079, Val Acc: 83.33%\n"
     ]
    }
   ],
   "source": [
    "EPOCHS = 10\n",
    "\n",
    "for epoch in range(EPOCHS):\n",
    "    model.train()\n",
    "    train_loss, correct, total = 0, 0, 0\n",
    "\n",
    "    for sequences, lengths, labels in train_loader:   # unpack lengths too\n",
    "        sequences, labels = sequences.to(device), labels.to(device)\n",
    "\n",
    "        optimizer.zero_grad()\n",
    "        outputs = model(sequences, lengths)  # pass lengths\n",
    "        loss = criterion(outputs, labels)\n",
    "        loss.backward()\n",
    "        optimizer.step()\n",
    "\n",
    "        train_loss += loss.item()\n",
    "        _, predicted = outputs.max(1)\n",
    "        total += labels.size(0)\n",
    "        correct += predicted.eq(labels).sum().item()\n",
    "\n",
    "    train_acc = 100. * correct / total\n",
    "\n",
    "    # Validation\n",
    "    model.eval()\n",
    "    val_loss, val_correct, val_total = 0, 0, 0\n",
    "    with torch.no_grad():\n",
    "        for sequences, lengths, labels in val_loader:\n",
    "            sequences, labels = sequences.to(device), labels.to(device)\n",
    "            outputs = model(sequences, lengths)  # pass lengths\n",
    "            loss = criterion(outputs, labels)\n",
    "\n",
    "            val_loss += loss.item()\n",
    "            _, predicted = outputs.max(1)\n",
    "            val_total += labels.size(0)\n",
    "            val_correct += predicted.eq(labels).sum().item()\n",
    "\n",
    "    val_acc = 100. * val_correct / val_total\n",
    "\n",
    "    print(f\"Epoch [{epoch+1}/{EPOCHS}] \"\n",
    "          f\"Train Loss: {train_loss/len(train_loader):.4f}, Train Acc: {train_acc:.2f}% \"\n",
    "          f\"Val Loss: {val_loss/len(val_loader):.4f}, Val Acc: {val_acc:.2f}%\")\n"
   ]
  },
  {
   "cell_type": "code",
   "execution_count": 16,
   "id": "84ecd287-ea42-4764-be3d-75da06e1cb2a",
   "metadata": {},
   "outputs": [
    {
     "name": "stdout",
     "output_type": "stream",
     "text": [
      "Model saved as lip_reading_model.pth\n"
     ]
    }
   ],
   "source": [
    "torch.save(model.state_dict(), \"lip_reading_model.pth\")\n",
    "print(\"Model saved as lip_reading_model.pth\")"
   ]
  },
  {
   "cell_type": "code",
   "execution_count": null,
   "id": "59d56a99-0251-4de6-bea0-bf4d346b8469",
   "metadata": {},
   "outputs": [],
   "source": []
  }
 ],
 "metadata": {
  "kernelspec": {
   "display_name": "Python 3 (ipykernel)",
   "language": "python",
   "name": "python3"
  },
  "language_info": {
   "codemirror_mode": {
    "name": "ipython",
    "version": 3
   },
   "file_extension": ".py",
   "mimetype": "text/x-python",
   "name": "python",
   "nbconvert_exporter": "python",
   "pygments_lexer": "ipython3",
   "version": "3.12.7"
  }
 },
 "nbformat": 4,
 "nbformat_minor": 5
}
